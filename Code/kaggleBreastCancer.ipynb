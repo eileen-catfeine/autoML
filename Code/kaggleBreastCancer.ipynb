{
 "cells": [
  {
   "cell_type": "markdown",
   "id": "adjusted-stephen",
   "metadata": {},
   "source": [
    "# Machine Learning on Breast Cancer Diagnosis  \n",
    "\n",
    "Hi friends, let's do some machine learning on breast cancer diagnosis. \n",
    "\n",
    "We are going to build a few classifiers for breast cancer diagnosis, a ***catgorical*** outcome variable, based on ***continous*** predictors, using the *Breast Cancer Wisconsin (Diagnostic) Data Set* downloaded from Kaggle (https://www.kaggle.com/uciml/breast-cancer-wisconsin-data).\n",
    "\n",
    "In the following script, you can expect to learn: <br>\n",
    "- Data cleaning and visualizaiton techniques that are critical to modeling building\n",
    "- Basic machine learning pipe-line \n",
    "- AutoML demonstration\n",
    "\n",
    "Remember that machine learning is just a ***tool***, not magic. <br>\n",
    "Nothing can replace an important research question inspired by your daily observations and experiences.<br>\n",
    "You also need to understand your data well to know its potentials and limitations. <br>\n",
    "Finally, you can use machine learning to help you answer a realistic question that your data is capable to answer. <br>\n",
    "\n",
    "Anyways, let's get going and start our practice. "
   ]
  },
  {
   "cell_type": "code",
   "execution_count": 1,
   "id": "capable-exposure",
   "metadata": {},
   "outputs": [],
   "source": [
    "import pandas as pd\n",
    "import numpy as np\n",
    "\n",
    "\n",
    "import matplotlib.pyplot as plt\n",
    "import seaborn as sns\n",
    "\n",
    "from sklearn.model_selection import train_test_split\n",
    "from sklearn.compose import ColumnTransformer\n",
    "from sklearn.pipeline import Pipeline\n",
    "from sklearn.impute import SimpleImputer\n",
    "from sklearn.preprocessing import OneHotEncoder\n",
    "from sklearn.ensemble import RandomForestClassifier\n",
    "from sklearn.metrics import accuracy_score\n",
    "from supervised.automl import AutoML \n",
    "from tpot import TPOTClassifier"
   ]
  },
  {
   "cell_type": "code",
   "execution_count": null,
   "id": "based-marsh",
   "metadata": {},
   "outputs": [],
   "source": []
  }
 ],
 "metadata": {
  "kernelspec": {
   "display_name": "Python 3",
   "language": "python",
   "name": "python3"
  },
  "language_info": {
   "codemirror_mode": {
    "name": "ipython",
    "version": 3
   },
   "file_extension": ".py",
   "mimetype": "text/x-python",
   "name": "python",
   "nbconvert_exporter": "python",
   "pygments_lexer": "ipython3",
   "version": "3.8.5"
  }
 },
 "nbformat": 4,
 "nbformat_minor": 5
}
